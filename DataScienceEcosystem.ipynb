{
 "cells": [
  {
   "cell_type": "markdown",
   "id": "ffb191cc-dd25-4455-aa3c-48e2d7aef827",
   "metadata": {},
   "source": [
    "# Data Science Tools and Ecosystem"
   ]
  },
  {
   "cell_type": "markdown",
   "id": "a4342d5a-a012-41f1-b79d-dcc95451e1c2",
   "metadata": {},
   "source": [
    "## In this notebook, Data Science Tools and Ecosystem are summarized"
   ]
  },
  {
   "cell_type": "markdown",
   "id": "fff6d585-5878-4c3b-b0ad-ad35717a7032",
   "metadata": {},
   "source": [
    "### Some of the popular languages that Data Scientist use are:\n",
    "\n",
    "1. Python\n",
    "2. R\n",
    "3. SQL"
   ]
  },
  {
   "cell_type": "markdown",
   "id": "be4f79f5-79a8-4390-9b9b-86dd4d526ad6",
   "metadata": {},
   "source": [
    "### Some of the commonly used libraries used by Data Scientist include:\n",
    "\n",
    "1. Pandas, NumPy\n",
    "2. Matplotlib, Seaborn\n",
    "3. Scikit-learn"
   ]
  },
  {
   "cell_type": "markdown",
   "id": "4758b52f-7329-4b98-afe7-695111e75cbe",
   "metadata": {},
   "source": [
    "##\n",
    "\n",
    "| Data Science Tools |\n",
    "| ------------------ |\n",
    "| Jupyter IDE |\n",
    "| RStudio |\n",
    "| Anaconda Navigator |"
   ]
  },
  {
   "cell_type": "markdown",
   "id": "43322ed1-f3f4-4a72-9d60-cec96a66d267",
   "metadata": {},
   "source": [
    "### Below are a few examples of evaluating arithmetic expressions in Python"
   ]
  },
  {
   "cell_type": "code",
   "execution_count": 1,
   "id": "5f528132-dc31-46dc-b28d-ed0a64d8df35",
   "metadata": {},
   "outputs": [
    {
     "data": {
      "text/plain": [
       "17"
      ]
     },
     "execution_count": 1,
     "metadata": {},
     "output_type": "execute_result"
    }
   ],
   "source": [
    "# This is a simple arithmetic expression to multiply and then add integers\n",
    "(3*4)+5"
   ]
  },
  {
   "cell_type": "code",
   "execution_count": 4,
   "id": "e38f41b4-708d-4fcb-a7f9-cae50bbacef0",
   "metadata": {},
   "outputs": [
    {
     "data": {
      "text/plain": [
       "3.3333333333333335"
      ]
     },
     "execution_count": 4,
     "metadata": {},
     "output_type": "execute_result"
    }
   ],
   "source": [
    "# This will convert 200 minutes to hours by dividing by 60\n",
    "200/60"
   ]
  },
  {
   "cell_type": "markdown",
   "id": "e425a1e7-647e-45df-9822-738680a8d623",
   "metadata": {},
   "source": [
    "## **Objectives:** \n",
    "\n",
    "+ List popular languages for Data Science\n",
    "+ List commonly used libraries used by Data Scientist\n",
    "+ List types of tools used for Development and Execution\n",
    "+ Evaluating arithmetic expression "
   ]
  },
  {
   "cell_type": "markdown",
   "id": "f7e2cbdb-b9f6-45b5-af99-1d4ac2502944",
   "metadata": {},
   "source": [
    "## Author\n",
    "Brendan Kaer"
   ]
  },
  {
   "cell_type": "code",
   "execution_count": null,
   "id": "7c181219-a9cb-49a2-bf5c-f96136d8c740",
   "metadata": {},
   "outputs": [],
   "source": []
  }
 ],
 "metadata": {
  "kernelspec": {
   "display_name": "Python 3 (ipykernel)",
   "language": "python",
   "name": "python3"
  },
  "language_info": {
   "codemirror_mode": {
    "name": "ipython",
    "version": 3
   },
   "file_extension": ".py",
   "mimetype": "text/x-python",
   "name": "python",
   "nbconvert_exporter": "python",
   "pygments_lexer": "ipython3",
   "version": "3.12.8"
  }
 },
 "nbformat": 4,
 "nbformat_minor": 5
}
